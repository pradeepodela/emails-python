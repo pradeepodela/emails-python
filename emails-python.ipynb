{
 "cells": [
  {
   "cell_type": "code",
   "execution_count": 2,
   "metadata": {},
   "outputs": [
    {
     "name": "stdout",
     "output_type": "stream",
     "text": [
      "Enter your email account password: pradeep9246\n",
      "success msg went\n"
     ]
    }
   ],
   "source": [
    "import smtplib\n",
    "import imghdr\n",
    "from email.message import EmailMessage\n",
    "\n",
    "Sender_Email = \"odelapradeep12@gmail.com\"\n",
    "Reciever_Email = \"odelapradeep12@gmail.com\"\n",
    "Password = input('Enter your email account password: ')\n",
    "\n",
    "newMessage = EmailMessage()                         \n",
    "newMessage['Subject'] = \"Check out the new logo\" \n",
    "newMessage['From'] = Sender_Email                   \n",
    "newMessage['To'] = Reciever_Email                   \n",
    "newMessage.set_content('Let me know what you think. Image attached!') \n",
    "\n",
    "with open(r'C:\\Users\\PRADEEP\\OneDrive\\Pictures\\New folder\\car.png', 'rb') as f:\n",
    "    image_data = f.read()\n",
    "    image_type = imghdr.what(f.name)\n",
    "    image_name = f.name\n",
    "\n",
    "newMessage.add_attachment(image_data, maintype='image', subtype=image_type, filename=image_name)\n",
    "\n",
    "with smtplib.SMTP_SSL('smtp.gmail.com', 465) as smtp:\n",
    "    \n",
    "    smtp.login(Sender_Email, Password)              \n",
    "    smtp.send_message(newMessage)\n",
    "print('success msg went')"
   ]
  },
  {
   "cell_type": "code",
   "execution_count": 4,
   "metadata": {},
   "outputs": [
    {
     "name": "stdout",
     "output_type": "stream",
     "text": [
      "Type your password and press enter:pradeep9246\n"
     ]
    }
   ],
   "source": [
    "import smtplib, ssl\n",
    "from email.mime.text import MIMEText\n",
    "from email.mime.multipart import MIMEMultipart\n",
    "\n",
    "sender_email = \"odelapradeep12@gmail.com\"\n",
    "receiver_email = \"odelapradeep12@gmail.com\"\n",
    "password = input(\"Type your password and press enter:\")\n",
    "\n",
    "message = MIMEMultipart(\"alternative\")\n",
    "message[\"Subject\"] = \"multipart test\"\n",
    "message[\"From\"] = sender_email\n",
    "message[\"To\"] = receiver_email\n",
    "\n",
    "# Create the plain-text and HTML version of your message\n",
    "text = \"\"\"\\\n",
    "Hi,\n",
    "How are you?\n",
    "tghis is my website\n",
    "http://pradeepodela.ml\"\"\"\n",
    "html = \"\"\"\\\n",
    "<html>\n",
    "  <body>\n",
    "    <p>Hi,<br>\n",
    "       How are you?<br>\n",
    "       <a href=\"http://pradeepodela.ml\">my website</a> \n",
    "       has many great tutorials.\n",
    "    </p>\n",
    "  </body>\n",
    "</html>\n",
    "\"\"\"\n",
    "\n",
    "# Turn these into plain/html MIMEText objects\n",
    "part1 = MIMEText(text, \"plain\")\n",
    "part2 = MIMEText(html, \"html\")\n",
    "\n",
    "# Add HTML/plain-text parts to MIMEMultipart message\n",
    "# The email client will try to render the last part first\n",
    "message.attach(part1)\n",
    "message.attach(part2)\n",
    "\n",
    "# Create secure connection with server and send email\n",
    "context = ssl.create_default_context()\n",
    "with smtplib.SMTP_SSL(\"smtp.gmail.com\", 465, context=context) as server:\n",
    "    server.login(sender_email, password)\n",
    "    server.sendmail(\n",
    "        sender_email, receiver_email, message.as_string()\n",
    "    )"
   ]
  },
  {
   "cell_type": "code",
   "execution_count": null,
   "metadata": {},
   "outputs": [],
   "source": []
  }
 ],
 "metadata": {
  "kernelspec": {
   "display_name": "Python 3",
   "language": "python",
   "name": "python3"
  },
  "language_info": {
   "codemirror_mode": {
    "name": "ipython",
    "version": 3
   },
   "file_extension": ".py",
   "mimetype": "text/x-python",
   "name": "python",
   "nbconvert_exporter": "python",
   "pygments_lexer": "ipython3",
   "version": "3.8.5"
  }
 },
 "nbformat": 4,
 "nbformat_minor": 4
}
